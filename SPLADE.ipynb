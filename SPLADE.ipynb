{
  "nbformat": 4,
  "nbformat_minor": 0,
  "metadata": {
    "colab": {
      "provenance": [],
      "include_colab_link": true
    },
    "kernelspec": {
      "name": "python3",
      "display_name": "Python 3"
    },
    "language_info": {
      "name": "python"
    }
  },
  "cells": [
    {
      "cell_type": "markdown",
      "metadata": {
        "id": "view-in-github",
        "colab_type": "text"
      },
      "source": [
        "<a href=\"https://colab.research.google.com/github/hobezhang/NLP-based-information-retrieval-system/blob/main/SPLADE.ipynb\" target=\"_parent\"><img src=\"https://colab.research.google.com/assets/colab-badge.svg\" alt=\"Open In Colab\"/></a>"
      ]
    },
    {
      "cell_type": "markdown",
      "source": [],
      "metadata": {
        "id": "F0h-8CUL6n67"
      }
    },
    {
      "cell_type": "code",
      "execution_count": 61,
      "metadata": {
        "id": "cVyGIlRlqeqX",
        "colab": {
          "base_uri": "https://localhost:8080/"
        },
        "outputId": "f04458fe-5960-4fa9-ba49-cd224315a78e"
      },
      "outputs": [
        {
          "output_type": "stream",
          "name": "stdout",
          "text": [
            "文档集: \n",
            "['sun sets horizon painting sky warm hues', 'bustling city people hurry workplaces early morning', 'melody distant guitar fills air quiet evening', 'exploring pages captivating novel lost world imagination', 'raindrops tap gently window pane creating soothing rhythm']\n",
            "特征名称:\n",
            " ['air' 'bustling' 'captivating' 'city' 'creating' 'distant' 'early'\n",
            " 'evening' 'exploring' 'fills' 'gently' 'guitar' 'horizon' 'hues' 'hurry'\n",
            " 'imagination' 'lost' 'melody' 'morning' 'novel' 'pages' 'painting' 'pane'\n",
            " 'people' 'quiet' 'raindrops' 'rhythm' 'sets' 'sky' 'soothing' 'sun' 'tap'\n",
            " 'warm' 'window' 'workplaces' 'world']\n",
            "\n",
            "  (0, 32)\t0.3779644730092272\n",
            "  (0, 30)\t0.3779644730092272\n",
            "  (0, 28)\t0.3779644730092272\n",
            "  (0, 27)\t0.3779644730092272\n",
            "  (0, 21)\t0.3779644730092272\n",
            "  (0, 13)\t0.3779644730092272\n",
            "  (0, 12)\t0.3779644730092272\n",
            "  (1, 34)\t0.3779644730092272\n",
            "  (1, 23)\t0.3779644730092272\n",
            "  (1, 18)\t0.3779644730092272\n",
            "  (1, 14)\t0.3779644730092272\n",
            "  (1, 6)\t0.3779644730092272\n",
            "  (1, 3)\t0.3779644730092272\n",
            "  (1, 1)\t0.3779644730092272\n",
            "  (2, 24)\t0.3779644730092272\n",
            "  (2, 17)\t0.3779644730092272\n",
            "  (2, 11)\t0.3779644730092272\n",
            "  (2, 9)\t0.3779644730092272\n",
            "  (2, 7)\t0.3779644730092272\n",
            "  (2, 5)\t0.3779644730092272\n",
            "  (2, 0)\t0.3779644730092272\n",
            "  (3, 35)\t0.3779644730092272\n",
            "  (3, 20)\t0.3779644730092272\n",
            "  (3, 19)\t0.3779644730092272\n",
            "  (3, 16)\t0.3779644730092272\n",
            "  (3, 15)\t0.3779644730092272\n",
            "  (3, 8)\t0.3779644730092272\n",
            "  (3, 2)\t0.3779644730092272\n",
            "  (4, 33)\t0.35355339059327373\n",
            "  (4, 31)\t0.35355339059327373\n",
            "  (4, 29)\t0.35355339059327373\n",
            "  (4, 26)\t0.35355339059327373\n",
            "  (4, 25)\t0.35355339059327373\n",
            "  (4, 22)\t0.35355339059327373\n",
            "  (4, 10)\t0.35355339059327373\n",
            "  (4, 4)\t0.35355339059327373\n",
            "TF-IDF 矩阵:\n",
            " [[0.         0.         0.         0.         0.         0.\n",
            "  0.         0.         0.         0.         0.         0.\n",
            "  0.37796447 0.37796447 0.         0.         0.         0.\n",
            "  0.         0.         0.         0.37796447 0.         0.\n",
            "  0.         0.         0.         0.37796447 0.37796447 0.\n",
            "  0.37796447 0.         0.37796447 0.         0.         0.        ]\n",
            " [0.         0.37796447 0.         0.37796447 0.         0.\n",
            "  0.37796447 0.         0.         0.         0.         0.\n",
            "  0.         0.         0.37796447 0.         0.         0.\n",
            "  0.37796447 0.         0.         0.         0.         0.37796447\n",
            "  0.         0.         0.         0.         0.         0.\n",
            "  0.         0.         0.         0.         0.37796447 0.        ]\n",
            " [0.37796447 0.         0.         0.         0.         0.37796447\n",
            "  0.         0.37796447 0.         0.37796447 0.         0.37796447\n",
            "  0.         0.         0.         0.         0.         0.37796447\n",
            "  0.         0.         0.         0.         0.         0.\n",
            "  0.37796447 0.         0.         0.         0.         0.\n",
            "  0.         0.         0.         0.         0.         0.        ]\n",
            " [0.         0.         0.37796447 0.         0.         0.\n",
            "  0.         0.         0.37796447 0.         0.         0.\n",
            "  0.         0.         0.         0.37796447 0.37796447 0.\n",
            "  0.         0.37796447 0.37796447 0.         0.         0.\n",
            "  0.         0.         0.         0.         0.         0.\n",
            "  0.         0.         0.         0.         0.         0.37796447]\n",
            " [0.         0.         0.         0.         0.35355339 0.\n",
            "  0.         0.         0.         0.         0.35355339 0.\n",
            "  0.         0.         0.         0.         0.         0.\n",
            "  0.         0.         0.         0.         0.35355339 0.\n",
            "  0.         0.35355339 0.35355339 0.         0.         0.35355339\n",
            "  0.         0.35355339 0.         0.35355339 0.         0.        ]]\n"
          ]
        },
        {
          "output_type": "stream",
          "name": "stderr",
          "text": [
            "[nltk_data] Downloading package punkt to /root/nltk_data...\n",
            "[nltk_data]   Package punkt is already up-to-date!\n",
            "[nltk_data] Downloading package stopwords to /root/nltk_data...\n",
            "[nltk_data]   Package stopwords is already up-to-date!\n"
          ]
        }
      ],
      "source": [
        "import nltk\n",
        "nltk.download('punkt')\n",
        "nltk.download('stopwords')\n",
        "from nltk.corpus import stopwords\n",
        "from nltk.tokenize import word_tokenize\n",
        "import re\n",
        "from sklearn.feature_extraction.text import TfidfVectorizer\n",
        "\n",
        "corpus = ['The sun sets over the horizon, painting the sky in warm hues.',\n",
        "          'In a bustling city, people hurry to their workplaces in the early morning.',\n",
        "          'A melody from a distant guitar fills the air on a quiet evening.',\n",
        "          'Exploring the pages of a captivating novel, lost in a world of imagination.',\n",
        "          'Raindrops tap gently on the window pane, creating a soothing rhythm.'\n",
        "         ]\n",
        "\n",
        "# 定义用于预处理文本的函数\n",
        "def preprocess_text(text):\n",
        "    # 移除标点符号和其他非字母数字字符\n",
        "    text =  re.sub('[^a-zA-Z]', ' ', text)\n",
        "    # 将文本标记化为单词\n",
        "    words = word_tokenize(text.lower())\n",
        "    # 移除停用词\n",
        "    words = [word for word in words if word not in stopwords.words('english')]\n",
        "    # print(stopwords.words('english'))\n",
        "    # 将单词重新连接成字符串\n",
        "    return ' '.join(words)\n",
        "\n",
        "# 预处理样例文档\n",
        "corpus = [preprocess_text(doc) for doc in corpus]\n",
        "print('文档集: \\n{}'.format(corpus))\n",
        "\n",
        "# 创建一个 TfidfVectorizer 对象并将其拟合到预处理的文档集\n",
        "vectorizer = TfidfVectorizer()\n",
        "vectorizer.fit(corpus)\n",
        "\n",
        "# 获取与 TF-IDF 矩阵中的列对应的特征名称列表\n",
        "print(\"特征名称:\\n\", vectorizer.get_feature_names_out())\n",
        "\n",
        "# 将预处理的文档集转换为 TF-IDF 矩阵\n",
        "tf_idf_matrix = vectorizer.transform(corpus)\n",
        "\n",
        "# 打印生成的矩阵\n",
        "print()\n",
        "print(tf_idf_matrix)\n",
        "print(\"TF-IDF 矩阵:\\n\",tf_idf_matrix.toarray())\n"
      ]
    },
    {
      "cell_type": "code",
      "source": [
        "import math\n",
        "\n",
        "class BM25:\n",
        "    def __init__(self, corpus, k1=1.5, b=0.75):\n",
        "        \"\"\"\n",
        "\n",
        "        参数：\n",
        "        - corpus: 文档集合，每个文档应该是一个单词列表\n",
        "        - k1: 一个调节参数，控制词项频率对得分的影响\n",
        "        - b: 一个调节参数，控制文档长度对得分的影响\n",
        "        \"\"\"\n",
        "        self.corpus = corpus\n",
        "        self.k1 = k1\n",
        "        self.b = b\n",
        "        self.doc_lengths = [len(doc) for doc in corpus]\n",
        "        self.avg_doc_length = sum(self.doc_lengths) / len(corpus)\n",
        "        self.doc_count = len(corpus)\n",
        "        self.idf = self.calculate_idf()\n",
        "\n",
        "    def calculate_idf(self):\n",
        "        \"\"\"\n",
        "        计算每个词项的逆文档频率（IDF）\n",
        "\n",
        "        返回一个字典，其中键是词项，值是对应的IDF值\n",
        "        \"\"\"\n",
        "        idf = {}\n",
        "        for doc in self.corpus:\n",
        "            unique_terms = set(doc)\n",
        "            for term in unique_terms:\n",
        "                idf[term] = idf.get(term, 0) + 1\n",
        "\n",
        "        for term in idf:\n",
        "            idf[term] = math.log((self.doc_count - idf[term] + 0.5) / (idf[term] + 0.5) + 1.0)\n",
        "\n",
        "        return idf\n",
        "\n",
        "    def calculate_score(self, query, doc):\n",
        "        \"\"\"\n",
        "        计算查询与文档之间的BM25得分\n",
        "\n",
        "        参数：\n",
        "        - query: 查询词项列表\n",
        "        - doc: 文档词项列表\n",
        "\n",
        "        返回BM25得分\n",
        "        \"\"\"\n",
        "        score = 0.0\n",
        "\n",
        "        for term in query:\n",
        "            if term in doc:\n",
        "                df = sum([1 for d in self.corpus if term in d])\n",
        "                idf_term = self.idf.get(term, 0)\n",
        "                score += (idf_term * doc.count(term) * (self.k1 + 1)) / (\n",
        "                        doc.count(term) + self.k1 * (1 - self.b + self.b * len(doc) / self.avg_doc_length))\n",
        "                score *= df / (df + 1)  # length normalization\n",
        "\n",
        "        return score\n",
        "\n",
        "    def rank_documents(self, query):\n",
        "        \"\"\"\n",
        "        对文档进行排名，返回排名后的文档列表和对应的BM25得分\n",
        "\n",
        "        参数：\n",
        "        - query: 查询词项列表\n",
        "\n",
        "        返回排名后的文档索引列表和对应的BM25得分\n",
        "        \"\"\"\n",
        "        scores = [(i, self.calculate_score(query, self.corpus[i])) for i in range(self.doc_count)]\n",
        "        ranked_docs = sorted(scores, key=lambda x: x[1], reverse=True)\n",
        "        return [(doc[0], doc[1]) for doc in ranked_docs]\n",
        "\n",
        "\n",
        "# 示例用法\n",
        "corpus = [\n",
        "    [\"apple\", \"banana\", \"orange\", \"apple\"],\n",
        "    [\"banana\", \"orange\", \"orange\",\"apple\"],\n",
        "    [\"apple\", \"apple\", \"banana\"]\n",
        "]\n",
        "\n",
        "query = [\"apple\", \"orange\"]\n",
        "\n",
        "bm25_model = BM25(corpus)\n",
        "result = bm25_model.rank_documents(query)\n",
        "print(\"排名后的文档索引和BM25得分：\", result)\n"
      ],
      "metadata": {
        "colab": {
          "base_uri": "https://localhost:8080/"
        },
        "id": "rRwUEqW3-koU",
        "outputId": "13b4b2ad-e824-4408-ec74-30a7165f659e"
      },
      "execution_count": 62,
      "outputs": [
        {
          "output_type": "stream",
          "name": "stdout",
          "text": [
            "排名后的文档索引和BM25得分： [(1, 0.499055695673375), (0, 0.39369287621150584), (2, 0.15194951574514637)]\n"
          ]
        }
      ]
    },
    {
      "cell_type": "markdown",
      "source": [
        "SPLADE"
      ],
      "metadata": {
        "id": "6KUAbkHB9msK"
      }
    },
    {
      "cell_type": "code",
      "source": [
        "from transformers import AutoModelForMaskedLM, AutoTokenizer\n",
        "\n",
        "model_id = 'naver/splade-cocondenser-ensembledistil'\n",
        "\n",
        "tokenizer = AutoTokenizer.from_pretrained(model_id)\n",
        "model = AutoModelForMaskedLM.from_pretrained(model_id)"
      ],
      "metadata": {
        "id": "7Pl085P79btp"
      },
      "execution_count": 63,
      "outputs": []
    },
    {
      "cell_type": "markdown",
      "source": [
        "![image.png](data:image/png;base64,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)"
      ],
      "metadata": {
        "id": "d-P1EwdRbox0"
      }
    },
    {
      "cell_type": "code",
      "source": [
        "tokens = tokenizer(\"The dogs like fishes.\", return_tensors='pt')\n",
        "output = model(**tokens)\n",
        "print(output)\n",
        "output.logits.shape"
      ],
      "metadata": {
        "colab": {
          "base_uri": "https://localhost:8080/"
        },
        "id": "LG9ydWG39os3",
        "outputId": "87d946c3-8342-49cb-c5bd-536afca53154"
      },
      "execution_count": 64,
      "outputs": [
        {
          "output_type": "stream",
          "name": "stdout",
          "text": [
            "MaskedLMOutput(loss=None, logits=tensor([[[ -6.0706,  -8.1703,  -7.2440,  ...,  -7.9876,  -7.7427,  -6.0149],\n",
            "         [ -6.3226,  -8.1456,  -7.3569,  ...,  -8.1020,  -7.7092,  -6.4092],\n",
            "         [-26.6736, -20.8495, -20.1078,  ..., -20.8740, -19.0471, -22.1640],\n",
            "         ...,\n",
            "         [-21.1708, -17.7811, -14.9942,  ..., -17.3077, -17.3838, -18.2990],\n",
            "         [-17.6253, -15.1335, -14.2484,  ..., -14.8527, -13.7333, -15.2855],\n",
            "         [-17.4875, -15.0432, -14.2110,  ..., -14.7886, -13.7254, -15.2659]]],\n",
            "       grad_fn=<ViewBackward0>), hidden_states=None, attentions=None)\n"
          ]
        },
        {
          "output_type": "execute_result",
          "data": {
            "text/plain": [
              "torch.Size([1, 7, 30522])"
            ]
          },
          "metadata": {},
          "execution_count": 64
        }
      ]
    },
    {
      "cell_type": "markdown",
      "source": [
        "![image.png](data:image/png;base64,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)"
      ],
      "metadata": {
        "id": "bgEr2iFrbxXf"
      }
    },
    {
      "cell_type": "code",
      "source": [
        "import torch\n",
        "\n",
        "vec = torch.max(\n",
        "    torch.log(\n",
        "        1 + torch.relu(output.logits)\n",
        "    ) * tokens.attention_mask.unsqueeze(-1),\n",
        "dim=1).values.squeeze()\n"
      ],
      "metadata": {
        "id": "uIfKcfTP-TnM"
      },
      "execution_count": 65,
      "outputs": []
    },
    {
      "cell_type": "code",
      "source": [
        "vec"
      ],
      "metadata": {
        "colab": {
          "base_uri": "https://localhost:8080/"
        },
        "id": "euh9Fk1f-m2_",
        "outputId": "d66a3bbd-f00f-4ec7-932c-298569a41662"
      },
      "execution_count": 66,
      "outputs": [
        {
          "output_type": "execute_result",
          "data": {
            "text/plain": [
              "tensor([0., 0., 0.,  ..., 0., 0., 0.], grad_fn=<SqueezeBackward0>)"
            ]
          },
          "metadata": {},
          "execution_count": 66
        }
      ]
    },
    {
      "cell_type": "code",
      "source": [
        "print(len(vec))"
      ],
      "metadata": {
        "colab": {
          "base_uri": "https://localhost:8080/"
        },
        "id": "GsqJaxRfcXj8",
        "outputId": "b9141d26-373b-4149-fd7d-4f9fd3e8274d"
      },
      "execution_count": 67,
      "outputs": [
        {
          "output_type": "stream",
          "name": "stdout",
          "text": [
            "30522\n"
          ]
        }
      ]
    },
    {
      "cell_type": "code",
      "source": [
        "\n",
        "cols = vec.nonzero().squeeze().cpu().tolist()\n",
        "print(len(cols))\n",
        "\n",
        "\n",
        "weights = vec[cols].cpu().tolist()\n",
        "\n",
        "sparse_dict = dict(zip(cols, weights))\n",
        "sparse_dict"
      ],
      "metadata": {
        "colab": {
          "base_uri": "https://localhost:8080/"
        },
        "id": "in-L79PI-rJ4",
        "outputId": "0738e72a-a2fe-4953-9e05-f3e9bb14c66c"
      },
      "execution_count": 70,
      "outputs": [
        {
          "output_type": "stream",
          "name": "stdout",
          "text": [
            "47\n"
          ]
        },
        {
          "output_type": "execute_result",
          "data": {
            "text/plain": [
              "{1024: 0.32549533247947693,\n",
              " 1996: 0.13122345507144928,\n",
              " 2027: 0.5024433732032776,\n",
              " 2066: 1.8275704383850098,\n",
              " 2123: 0.0026553154457360506,\n",
              " 2215: 0.6085314750671387,\n",
              " 2298: 0.0978935956954956,\n",
              " 2300: 0.058600787073373795,\n",
              " 2427: 0.12191428244113922,\n",
              " 2748: 0.05803355574607849,\n",
              " 3869: 2.252826452255249,\n",
              " 3899: 2.578550338745117,\n",
              " 4111: 0.5009176135063171,\n",
              " 4153: 0.288269966840744,\n",
              " 4176: 0.2985146939754486,\n",
              " 4521: 0.7205613851547241,\n",
              " 4669: 1.0484800338745117,\n",
              " 4743: 0.18439070880413055,\n",
              " 5074: 0.03130869194865227,\n",
              " 5248: 0.6992034912109375,\n",
              " 5437: 0.23216351866722107,\n",
              " 5438: 0.13832789659500122,\n",
              " 5532: 0.4857371151447296,\n",
              " 5645: 1.7455503940582275,\n",
              " 5742: 0.6806011199951172,\n",
              " 5875: 0.28323766589164734,\n",
              " 5933: 0.31160733103752136,\n",
              " 6077: 2.5794031620025635,\n",
              " 6240: 0.00956618133932352,\n",
              " 6805: 0.2515466511249542,\n",
              " 6816: 0.15462760627269745,\n",
              " 7488: 0.07079310715198517,\n",
              " 7529: 0.0016862234333530068,\n",
              " 8843: 0.3176485002040863,\n",
              " 9004: 0.2862841486930847,\n",
              " 9201: 0.19111385941505432,\n",
              " 9544: 0.5172544717788696,\n",
              " 9880: 0.08606408536434174,\n",
              " 9958: 0.1891130805015564,\n",
              " 11420: 0.3367852568626404,\n",
              " 14974: 0.028562013059854507,\n",
              " 15267: 0.17866423726081848,\n",
              " 17801: 0.005643032491207123,\n",
              " 20716: 0.08004219084978104,\n",
              " 21198: 0.07718810439109802,\n",
              " 21995: 2.3444981575012207,\n",
              " 23723: 0.19007760286331177}"
            ]
          },
          "metadata": {},
          "execution_count": 70
        }
      ]
    },
    {
      "cell_type": "code",
      "source": [
        "# extract the ID position to text token mappings\n",
        "idx2token = {\n",
        "    idx: token for token, idx in tokenizer.get_vocab().items()\n",
        "}\n",
        "# map token IDs to human-readable tokens\n",
        "sparse_dict_tokens = {\n",
        "    idx2token[idx]: round(weight, 2) for idx, weight in zip(cols, weights)\n",
        "}\n",
        "# sort so we can see most relevant tokens first\n",
        "sparse_dict_tokens = {\n",
        "    k: v for k, v in sorted(\n",
        "        sparse_dict_tokens.items(),\n",
        "        key=lambda item: item[1],\n",
        "        reverse=True\n",
        "    )\n",
        "}\n",
        "sparse_dict_tokens\n",
        "\n",
        "#Caravanserais were roadside inns that were built along the Silk Road in areas including China, North Africa and the Middle East."
      ],
      "metadata": {
        "colab": {
          "base_uri": "https://localhost:8080/"
        },
        "id": "wtAiUYsa-yRg",
        "outputId": "4e7dcd4d-0908-49f0-bd77-d676d682946d"
      },
      "execution_count": 71,
      "outputs": [
        {
          "output_type": "execute_result",
          "data": {
            "text/plain": [
              "{'dog': 2.58,\n",
              " 'dogs': 2.58,\n",
              " 'fishes': 2.34,\n",
              " 'fish': 2.25,\n",
              " 'like': 1.83,\n",
              " 'fishing': 1.75,\n",
              " 'liked': 1.05,\n",
              " 'eat': 0.72,\n",
              " 'behavior': 0.7,\n",
              " 'swimming': 0.68,\n",
              " 'want': 0.61,\n",
              " 'prefer': 0.52,\n",
              " 'they': 0.5,\n",
              " 'animal': 0.5,\n",
              " 'desert': 0.49,\n",
              " 'shark': 0.34,\n",
              " ':': 0.33,\n",
              " 'breed': 0.32,\n",
              " 'hunting': 0.31,\n",
              " 'animals': 0.3,\n",
              " 'ocean': 0.29,\n",
              " 'pet': 0.29,\n",
              " 'interesting': 0.28,\n",
              " 'bite': 0.25,\n",
              " 'smell': 0.23,\n",
              " 'zoo': 0.19,\n",
              " 'attract': 0.19,\n",
              " 'catfish': 0.19,\n",
              " 'bird': 0.18,\n",
              " 'predator': 0.18,\n",
              " 'tiger': 0.15,\n",
              " 'feed': 0.14,\n",
              " 'the': 0.13,\n",
              " 'species': 0.12,\n",
              " 'look': 0.1,\n",
              " 'swim': 0.09,\n",
              " 'bully': 0.08,\n",
              " 'parasite': 0.08,\n",
              " 'snake': 0.07,\n",
              " 'water': 0.06,\n",
              " 'yes': 0.06,\n",
              " 'roger': 0.03,\n",
              " 'aggression': 0.03,\n",
              " 'meat': 0.01,\n",
              " 'dolphin': 0.01,\n",
              " 'don': 0.0,\n",
              " '##fish': 0.0}"
            ]
          },
          "metadata": {},
          "execution_count": 71
        }
      ]
    },
    {
      "cell_type": "code",
      "source": [
        "texts = [\n",
        "    \"Caravanserais were also an important marketplace for commodities\",\n",
        "    \"From the 10th century onwards,as merchant and travel routes become more developed\",\n",
        "    \"Photosynthesis is the process of storing light energy as chemical energy in cells\",\n",
        "]"
      ],
      "metadata": {
        "id": "Iz_136T8Hjq4"
      },
      "execution_count": 72,
      "outputs": []
    },
    {
      "cell_type": "code",
      "source": [
        "tokens = tokenizer(\n",
        "    texts, return_tensors='pt',\n",
        "    padding=True, truncation=True\n",
        ")\n",
        "output = model(**tokens)\n",
        "# aggregate the token-level vecs and transform to sparse\n",
        "vecs = torch.max(\n",
        "    torch.log(1 + torch.relu(output.logits)) * tokens.attention_mask.unsqueeze(-1), dim=1\n",
        ").values.squeeze().detach().cpu().numpy()\n",
        "vecs.shape"
      ],
      "metadata": {
        "colab": {
          "base_uri": "https://localhost:8080/"
        },
        "id": "ceibdff2IHwe",
        "outputId": "65a540a9-6ad1-4958-a832-2e516c5edc7f"
      },
      "execution_count": 74,
      "outputs": [
        {
          "output_type": "execute_result",
          "data": {
            "text/plain": [
              "(3, 30522)"
            ]
          },
          "metadata": {},
          "execution_count": 74
        }
      ]
    },
    {
      "cell_type": "code",
      "source": [
        "import numpy as np\n",
        "\n",
        "sim = np.zeros((vecs.shape[0], vecs.shape[0]))\n",
        "\n",
        "for i, vec in enumerate(vecs):\n",
        "    sim[i,:] = np.dot(vec, vecs.T) / (\n",
        "        np.linalg.norm(vec) * np.linalg.norm(vecs, axis=1)\n",
        "    )\n",
        "sim.round(decimals=2)"
      ],
      "metadata": {
        "colab": {
          "base_uri": "https://localhost:8080/"
        },
        "id": "qA_KdBARISXj",
        "outputId": "649d67ff-52c7-40c4-b71b-f1cefce32f3f"
      },
      "execution_count": 75,
      "outputs": [
        {
          "output_type": "execute_result",
          "data": {
            "text/plain": [
              "array([[1.  , 0.13, 0.  ],\n",
              "       [0.13, 1.  , 0.  ],\n",
              "       [0.  , 0.  , 1.  ]])"
            ]
          },
          "metadata": {},
          "execution_count": 75
        }
      ]
    }
  ]
}