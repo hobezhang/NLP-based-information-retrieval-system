{
  "nbformat": 4,
  "nbformat_minor": 0,
  "metadata": {
    "colab": {
      "provenance": [],
      "include_colab_link": true
    },
    "kernelspec": {
      "name": "python3",
      "display_name": "Python 3"
    },
    "language_info": {
      "name": "python"
    }
  },
  "cells": [
    {
      "cell_type": "markdown",
      "metadata": {
        "id": "view-in-github",
        "colab_type": "text"
      },
      "source": [
        "<a href=\"https://colab.research.google.com/github/hobezhang/NLP-based-information-retrieval-system/blob/main/Transformer-Encoder.ipynb\" target=\"_parent\"><img src=\"https://colab.research.google.com/assets/colab-badge.svg\" alt=\"Open In Colab\"/></a>"
      ]
    },
    {
      "cell_type": "code",
      "execution_count": null,
      "metadata": {
        "id": "hhi2ZpkWfi2v"
      },
      "outputs": [],
      "source": [
        "import torch\n",
        "import torch.nn as nn\n",
        "import math\n",
        "class MultiHeadAttention(nn.Module):\n",
        "  def __init__(self):\n",
        "    super().__init__()\n",
        "    self.hidden_size = 512\n",
        "    self.q_proj = nn.Linear(self.hidden_size, self.hidden_size)\n",
        "    self.k_proj = nn.Linear(self.hidden_size, self.hidden_size)\n",
        "    self.v_proj = nn.Linear(self.hidden_size, self.hidden_size)\n",
        "\n",
        "  def forward(self, inputs):\n",
        "    q = self.q_proj(inputs)\n",
        "    k = self.k_proj(inputs)\n",
        "    v = self.v_proj(inputs)\n",
        "\n",
        "    return (torch.softmax(q@k.T,dim=-1)/math.sqrt(self.hidden_size))@v\n",
        "\n",
        "class AddAndNorm(nn.Module):\n",
        "  def __init__(self):\n",
        "    super().__init__()\n",
        "    self.hidden_size = 512\n",
        "    self.layer_norm = nn.LayerNorm(self.hidden_size)\n",
        "\n",
        "  def forward(self, inputs, sublayer_outputs):\n",
        "    return self.layer_norm(inputs + sublayer_outputs)\n",
        "\n",
        "class SubModule1(nn.Module):\n",
        "  def __init__(self):\n",
        "    super().__init__()\n",
        "    self.hidden_size = 512\n",
        "    self.multi_head_attention = MultiHeadAttention()\n",
        "    self.add_and_norm = AddAndNorm()\n",
        "\n",
        "  def forward(self, inputs):\n",
        "    result = self.multi_head_attention(inputs)\n",
        "    return self.add_and_norm(inputs,result)\n",
        "\n",
        "class FeedForward(nn.Module):\n",
        "  def __init__(self):\n",
        "    super().__init__()\n",
        "    self.hidden_size = 512\n",
        "    self.linear1 = nn.Linear(self.hidden_size,self.hidden_size)\n",
        "    self.linear2 = nn.Linear(self.hidden_size,self.hidden_size)\n",
        "  def forward(self,inputs):\n",
        "    return self.linear2(torch.relu(self.linear1(inputs)))\n",
        "\n",
        "\n",
        "class SubModule2(nn.Module):\n",
        "  def __init__(self):\n",
        "    super().__init__()\n",
        "    self.hidden_size = 512\n",
        "    self.feed_forward = FeedForward()\n",
        "    self.add_and_norm = AddAndNorm()\n",
        "  def forward(self,inputs):\n",
        "    result = self.feed_forward(inputs)\n",
        "    return self.add_and_norm(inputs,result)\n"
      ]
    },
    {
      "cell_type": "code",
      "source": [
        "class Encoder(nn.Module):\n",
        "  def __init__(self):\n",
        "    super().__init__()\n",
        "    self.submodule1 = SubModule1()\n",
        "    self.submodule2 = SubModule2()\n",
        "\n",
        "  def forward(self, inputs):\n",
        "\n",
        "    result = self.submodule1(inputs)\n",
        "    return self.submodule2(result)\n",
        "\n"
      ],
      "metadata": {
        "id": "COJ-NDsN2XIv"
      },
      "execution_count": null,
      "outputs": []
    },
    {
      "cell_type": "code",
      "source": [
        "a = torch.randn(10,512)\n",
        "encoder = Encoder()\n",
        "encoder(a)"
      ],
      "metadata": {
        "colab": {
          "base_uri": "https://localhost:8080/"
        },
        "id": "lSd1l3Fn3BhN",
        "outputId": "66fe6b7b-f76c-46cb-f4fd-673b203e73d5"
      },
      "execution_count": null,
      "outputs": [
        {
          "output_type": "execute_result",
          "data": {
            "text/plain": [
              "tensor([[-0.4549,  2.4734,  0.1220,  ...,  0.1129, -0.4797, -0.5451],\n",
              "        [-1.7322, -0.7907,  0.4058,  ..., -1.0210, -0.5395,  1.2944],\n",
              "        [ 0.0660,  0.7119, -0.7878,  ..., -0.1319,  0.4728, -0.0316],\n",
              "        ...,\n",
              "        [ 0.3984,  1.3432, -1.3832,  ...,  0.4117, -0.9377, -0.1216],\n",
              "        [-0.0570,  0.4974,  0.6445,  ..., -0.1424, -2.0119,  0.3062],\n",
              "        [ 0.6127,  0.4205, -0.8019,  ...,  0.2607,  1.3379, -1.5454]],\n",
              "       grad_fn=<NativeLayerNormBackward0>)"
            ]
          },
          "metadata": {},
          "execution_count": 3
        }
      ]
    }
  ]
}